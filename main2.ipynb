{
 "cells": [
  {
   "cell_type": "code",
   "execution_count": null,
   "metadata": {},
   "outputs": [],
   "source": [
    "import matplotlib.pyplot as plt\n",
    "import pandas as pd\n",
    "import scipy.stats as st\n",
    "from scipy.stats import linregress"
   ]
  },
  {
   "cell_type": "code",
   "execution_count": null,
   "metadata": {},
   "outputs": [],
   "source": [
    "sleep_df = pd.read_csv(\"../project-1/Resources/Sleep_health_and_lifestyle_dataset.csv\")\n",
    "sleep_df.head()"
   ]
  },
  {
   "cell_type": "code",
   "execution_count": null,
   "metadata": {},
   "outputs": [],
   "source": [
    "#Looking at sample sizes for Occupation\n",
    "plt.bar(sleep_df[\"Occupation\"].value_counts().index.values, sleep_df[\"Occupation\"].value_counts().values)\n",
    "plt.xticks(rotation = 90)\n",
    "plt.xlabel(\"Occupation\")\n",
    "plt.ylabel(\"Total Number\")\n",
    "plt.show()"
   ]
  },
  {
   "cell_type": "code",
   "execution_count": null,
   "metadata": {},
   "outputs": [],
   "source": [
    "#Removing Samples that are less than 30\n",
    "value_counts = sleep_df[\"Occupation\"].value_counts()\n",
    "remove = value_counts[value_counts < 30].index\n",
    "sleep_df_clean = sleep_df[~sleep_df[\"Occupation\"].isin(remove)]\n",
    "sleep_df_clean.head()"
   ]
  },
  {
   "cell_type": "code",
   "execution_count": null,
   "metadata": {},
   "outputs": [],
   "source": [
    "#Looking at averate sleep duration and quality based on occupation\n",
    "occupation_df = pd.DataFrame({\n",
    "    \"Mean Sleep Duration\": sleep_df_clean.groupby([\"Occupation\"])[\"Sleep Duration\"].mean(),\n",
    "    \"Mean Sleep Quality\": sleep_df_clean.groupby([\"Occupation\"])[\"Quality of Sleep\"].mean(),\n",
    "})\n",
    "occupation_df"
   ]
  },
  {
   "cell_type": "code",
   "execution_count": null,
   "metadata": {},
   "outputs": [],
   "source": [
    "plt.bar(sleep_df_clean[\"Occupation\"].value_counts().index.values ,sleep_df_clean.groupby([\"Occupation\"])[\"Sleep Duration\"].mean())\n",
    "plt.xticks(rotation = 90)\n",
    "plt.xlabel(\"Occupation\")\n",
    "plt.ylabel(\"Avg Sleep Duration (Hours)\")\n",
    "plt.title(\"Occupation vs. Avg Sleep Duration (Hours)\")\n",
    "plt.show()"
   ]
  },
  {
   "cell_type": "code",
   "execution_count": null,
   "metadata": {},
   "outputs": [],
   "source": [
    "plt.bar(sleep_df_clean[\"Occupation\"].value_counts().index.values ,sleep_df_clean.groupby([\"Occupation\"])[\"Quality of Sleep\"].mean())\n",
    "plt.xticks(rotation = 90)\n",
    "plt.xlabel(\"Occupation\")\n",
    "plt.ylabel(\"Avg Sleep Quality\")\n",
    "plt.title(\"Occupation vs. Avg Sleep Quality\")\n",
    "plt.ylim(0,10)\n",
    "plt.show()"
   ]
  },
  {
   "cell_type": "code",
   "execution_count": null,
   "metadata": {},
   "outputs": [],
   "source": [
    "gender_df = pd.DataFrame({\n",
    "    \"Mean Sleep Duration\": sleep_df_clean.groupby([\"Gender\"])[\"Sleep Duration\"].mean(),\n",
    "    \"Mean Sleep Quality\": sleep_df_clean.groupby([\"Gender\"])[\"Quality of Sleep\"].mean(),\n",
    "})\n",
    "gender_df"
   ]
  },
  {
   "cell_type": "code",
   "execution_count": null,
   "metadata": {},
   "outputs": [],
   "source": [
    "plt.bar(sleep_df[\"Gender\"].value_counts().index.values, sleep_df[\"Gender\"].value_counts().values)\n",
    "plt.xticks(rotation = 90)\n",
    "plt.xlabel(\"Gender\")\n",
    "plt.ylabel(\"Total Number\")\n",
    "plt.show()"
   ]
  },
  {
   "cell_type": "code",
   "execution_count": null,
   "metadata": {},
   "outputs": [],
   "source": [
    "plt.bar(sleep_df_clean[\"Gender\"].value_counts().index.values ,sleep_df_clean.groupby([\"Gender\"])[\"Sleep Duration\"].mean())\n",
    "plt.xticks(rotation = 90)\n",
    "plt.xlabel(\"Gender\")\n",
    "plt.ylabel(\"Avg Sleep Duration (Hours)\")\n",
    "plt.title(\"Gender vs. Avg Sleep Duration (Hours)\")\n",
    "plt.show()"
   ]
  },
  {
   "cell_type": "code",
   "execution_count": null,
   "metadata": {},
   "outputs": [],
   "source": [
    "plt.bar(sleep_df_clean[\"Gender\"].value_counts().index.values ,sleep_df_clean.groupby([\"Gender\"])[\"Quality of Sleep\"].mean())\n",
    "plt.xticks(rotation = 90)\n",
    "plt.xlabel(\"Gender\")\n",
    "plt.ylabel(\"Avg Sleep Quality\")\n",
    "plt.title(\"Gender vs. Avg Sleep Quality\")\n",
    "plt.ylim(0,10)\n",
    "plt.show()"
   ]
  },
  {
   "cell_type": "code",
   "execution_count": null,
   "metadata": {},
   "outputs": [],
   "source": [
    "# Looking at heart rate to see sample sizes\n",
    "plt.bar(sleep_df[\"Sleep Disorder\"].value_counts().index.values, sleep_df[\"Sleep Disorder\"].value_counts().values)\n",
    "plt.xticks(rotation = 90)\n",
    "plt.xlabel(\"Sleep Disorder\")\n",
    "plt.ylabel(\"Total Number\")\n",
    "plt.show()\n"
   ]
  },
  {
   "cell_type": "code",
   "execution_count": null,
   "metadata": {},
   "outputs": [],
   "source": [
    "#The mean duration and quality based on sleep disorders\n",
    "sleep_disorder_df = pd.DataFrame({\n",
    "    \"Mean Sleep Duration\": sleep_df_clean.groupby([\"Sleep Disorder\"])[\"Sleep Duration\"].mean(),\n",
    "    \"Mean Sleep Quality\": sleep_df_clean.groupby([\"Sleep Disorder\"])[\"Quality of Sleep\"].mean(),\n",
    "})\n",
    "sleep_disorder_df"
   ]
  },
  {
   "cell_type": "code",
   "execution_count": null,
   "metadata": {},
   "outputs": [],
   "source": [
    "#Looking at quality of sleep vs sleep disorders\n",
    "plt.bar(sleep_df_clean[\"Sleep Disorder\"].value_counts().index.values ,\n",
    "        sleep_df_clean.groupby([\"Sleep Disorder\"])[\"Quality of Sleep\"].mean())\n",
    "plt.xticks(rotation = 90)\n",
    "plt.xlabel(\"Sleep Disorder\")\n",
    "plt.ylabel(\"Avg Sleep Quality\")\n",
    "plt.title(\"Sleep Disorder vs. Avg Sleep Quality\")\n",
    "plt.ylim(0,10)\n",
    "plt.show()"
   ]
  },
  {
   "cell_type": "code",
   "execution_count": null,
   "metadata": {},
   "outputs": [],
   "source": [
    "#Removing Samples that are less than 30\n",
    "value_counts = sleep_df[\"Daily Steps\"].value_counts()\n",
    "remove = value_counts[value_counts < 30].index\n",
    "sleep_df_clean = sleep_df[~sleep_df[\"Daily Steps\"].isin(remove)]\n",
    "#sleep_df_clean.head()"
   ]
  },
  {
   "cell_type": "code",
   "execution_count": null,
   "metadata": {},
   "outputs": [],
   "source": [
    "def linear(x,y,title,xlabel,ylabel):\n",
    "    (slope, intercept, rvalue, pvalue, stderr) = linregress(x, y)\n",
    "    regress_values = x * slope + intercept\n",
    "    plt.scatter(x,y)\n",
    "    plt.plot(x,regress_values,\"r-\",label='y={:.2f}x+{:.2f}'.format(slope,intercept))\n",
    "    plt.title(title)\n",
    "    plt.xlabel(xlabel)\n",
    "    plt.ylabel(ylabel)\n",
    "    plt.legend(fontsize=9)\n",
    "    plt.show()\n",
    "    print(f\"The r value is: {rvalue}\")"
   ]
  },
  {
   "cell_type": "code",
   "execution_count": null,
   "metadata": {},
   "outputs": [],
   "source": [
    "#Total daily steps sample sizes\n",
    "data_stuff = sleep_df_clean.groupby([\"Daily Steps\"])[\"Quality of Sleep\"].value_counts()\n",
    "data_stuff.plot(kind = \"bar\", rot = 90)\n",
    "plt.xlabel(\"Daily Steps\")\n",
    "plt.ylabel(\"Total Number\")\n",
    "plt.show()"
   ]
  },
  {
   "cell_type": "code",
   "execution_count": null,
   "metadata": {},
   "outputs": [],
   "source": [
    "#Looking at daily steps vs quality\n",
    "data_stuff = sleep_df_clean.groupby([\"Daily Steps\"])[\"Quality of Sleep\"].mean()\n",
    "data_stuff.plot(kind=\"bar\", rot=90)\n",
    "plt.xlabel(\"Daily Steps\")\n",
    "plt.ylabel(\"Avg Sleep Quality\")\n",
    "plt.title(\"Daily Steps vs. Avg Sleep Quality\")\n",
    "plt.show()\n"
   ]
  },
  {
   "cell_type": "code",
   "execution_count": null,
   "metadata": {},
   "outputs": [],
   "source": [
    "linear(sleep_df_clean[\"Daily Steps\"],sleep_df_clean['Sleep Duration'],\n",
    "       \"Daily Steps vs. Sleep Duration (Hours)\", \"Daily Steps\", \"Sleep Duration (Hours)\")"
   ]
  },
  {
   "cell_type": "code",
   "execution_count": null,
   "metadata": {},
   "outputs": [],
   "source": [
    "#The mean duration and quality based on Daily Steps\n",
    "daily_steps_df = pd.DataFrame({\n",
    "    \"Mean Daily Steps\": sleep_df_clean.groupby([\"Daily Steps\"])[\"Sleep Duration\"].mean(),\n",
    "    \"Mean Sleep Quality\": sleep_df_clean.groupby([\"Daily Steps\"])[\"Quality of Sleep\"].mean(),\n",
    "})\n",
    "daily_steps_df"
   ]
  },
  {
   "cell_type": "code",
   "execution_count": null,
   "metadata": {},
   "outputs": [],
   "source": [
    "#Removing Samples that are less than 30\n",
    "value_counts = sleep_df[\"Heart Rate\"].value_counts()\n",
    "remove = value_counts[value_counts < 30].index\n",
    "sleep_df_clean = sleep_df[~sleep_df[\"Heart Rate\"].isin(remove)]\n",
    "#sleep_df_clean.head()"
   ]
  },
  {
   "cell_type": "code",
   "execution_count": null,
   "metadata": {},
   "outputs": [],
   "source": [
    "# Looking at heart rate to see sample sizes\n",
    "plt.bar(sleep_df_clean[\"Heart Rate\"].value_counts().index.values, sleep_df_clean[\"Heart Rate\"].value_counts().values)\n",
    "plt.xticks(rotation = 90)\n",
    "plt.xlabel(\"Heart Rate\")\n",
    "plt.ylabel(\"Total Number\")\n",
    "plt.show()"
   ]
  },
  {
   "cell_type": "code",
   "execution_count": null,
   "metadata": {},
   "outputs": [],
   "source": [
    "#Looking at heart rate vs quality\n",
    "data_stuff_heart_rate = sleep_df_clean.groupby([\"Heart Rate\"])[\"Quality of Sleep\"].mean()\n",
    "data_stuff_heart_rate.plot(kind=\"bar\", rot=90)\n",
    "plt.xlabel(\"Heart Rate\")\n",
    "plt.ylabel(\"Avg Sleep Quality\")\n",
    "plt.title(\"Heart Rate vs. Avg Sleep Quality\")\n",
    "plt.show()"
   ]
  },
  {
   "cell_type": "code",
   "execution_count": null,
   "metadata": {},
   "outputs": [],
   "source": [
    "linear(sleep_df_clean[\"Heart Rate\"],sleep_df_clean['Sleep Duration'],\n",
    "       \"Heart Rate vs. Sleep Duration (Hours)\", \"Heart Rate\", \"Sleep Duration (Hours)\")"
   ]
  },
  {
   "cell_type": "code",
   "execution_count": null,
   "metadata": {},
   "outputs": [],
   "source": [
    "#The mean duration and quality based on heart rate\n",
    "heart_rate_df = pd.DataFrame({\n",
    "    \"Mean Heart Rate\": sleep_df_clean.groupby([\"Heart Rate\"])[\"Sleep Duration\"].mean(),\n",
    "    \"Mean Sleep Quality\": sleep_df_clean.groupby([\"Heart Rate\"])[\"Quality of Sleep\"].mean(),\n",
    "})\n",
    "heart_rate_df"
   ]
  },
  {
   "cell_type": "code",
   "execution_count": null,
   "metadata": {},
   "outputs": [],
   "source": [
    "value_counts = sleep_df[\"Blood Pressure\"].value_counts()\n",
    "remove = value_counts[value_counts < 30].index\n",
    "sleep_df_clean = sleep_df[~sleep_df[\"Blood Pressure\"].isin(remove)]\n",
    "sleep_df_clean.head()"
   ]
  },
  {
   "cell_type": "code",
   "execution_count": null,
   "metadata": {},
   "outputs": [],
   "source": [
    "#Blood pressure sample sizes after getting rid of any sample sizes that were less than 30\n",
    "plt.bar(sleep_df_clean[\"Blood Pressure\"].value_counts().index.values,\n",
    "         sleep_df_clean[\"Blood Pressure\"].value_counts().values)\n",
    "plt.xticks(rotation = 90)\n",
    "plt.xlabel(\"Blood Pressure\")\n",
    "plt.ylabel(\"Total Number\")\n",
    "plt.title(\"Blood Pressure vs Total Number\")\n",
    "plt.show()"
   ]
  },
  {
   "cell_type": "code",
   "execution_count": null,
   "metadata": {},
   "outputs": [],
   "source": [
    "#Looking at Blood Pressure vs quality\n",
    "data_stuff_blood_pressure = sleep_df_clean.groupby([\"Blood Pressure\"])[\"Quality of Sleep\"].mean()\n",
    "data_stuff_blood_pressure.plot(kind=\"bar\", rot=90)\n",
    "plt.xlabel(\"Blood Pressure\")\n",
    "plt.ylabel(\"Avg Sleep Quality\")\n",
    "plt.title(\"Blood Pressure vs. Avg Sleep Quality\")\n",
    "plt.show()"
   ]
  },
  {
   "cell_type": "code",
   "execution_count": null,
   "metadata": {},
   "outputs": [],
   "source": [
    "# #Looking at quality of sleep vs blood pressure\n",
    "# plt.bar(sleep_df_clean[\"Blood Pressure\"].value_counts().index.values ,\n",
    "#         sleep_df_clean.groupby([\"Blood Pressure\"])[\"Quality of Sleep\"].mean())\n",
    "# plt.xticks(rotation = 90)\n",
    "# plt.xlabel(\"Blood Pressure\")\n",
    "# plt.ylabel(\"Avg Sleep Quality\")\n",
    "# plt.title(\"Blood Pressure vs. Avg Sleep Quality\")\n",
    "# plt.ylim(0,10)\n",
    "# plt.show()"
   ]
  },
  {
   "cell_type": "code",
   "execution_count": null,
   "metadata": {},
   "outputs": [],
   "source": [
    "#The mean duration and quality based on Blood Pressure\n",
    "blood_pressure_df = pd.DataFrame({\n",
    "    \"Mean Sleep Duration\": sleep_df_clean.groupby([\"Blood Pressure\"])[\"Sleep Duration\"].mean(),\n",
    "    \"Mean Sleep Quality\": sleep_df_clean.groupby([\"Blood Pressure\"])[\"Quality of Sleep\"].mean(),\n",
    "})\n",
    "blood_pressure_df"
   ]
  },
  {
   "cell_type": "code",
   "execution_count": null,
   "metadata": {},
   "outputs": [],
   "source": [
    "#Removing Samples that are less than 30\n",
    "value_counts = sleep_df[\"BMI Category\"].value_counts()\n",
    "remove = value_counts[value_counts < 30].index\n",
    "sleep_df_clean = sleep_df[~sleep_df[\"BMI Category\"].isin(remove)]\n",
    "#sleep_df_clean.head()"
   ]
  },
  {
   "cell_type": "code",
   "execution_count": null,
   "metadata": {},
   "outputs": [],
   "source": [
    "# Looking at sample sizes for BMI category\n",
    "plt.bar(sleep_df_clean[\"BMI Category\"].value_counts().index.values,\n",
    "         sleep_df_clean[\"BMI Category\"].value_counts().values)\n",
    "plt.xticks(rotation = 90)\n",
    "plt.xlabel(\"BMI Category\")\n",
    "plt.ylabel(\"Total Number\")\n",
    "plt.title(\"BMI Category vs Total Number\")\n",
    "plt.show()"
   ]
  },
  {
   "cell_type": "code",
   "execution_count": null,
   "metadata": {},
   "outputs": [],
   "source": [
    "#Looking at heart rate vs quality\n",
    "data_stuff_BMI = sleep_df_clean.groupby([\"BMI Category\"])[\"Quality of Sleep\"].mean()\n",
    "data_stuff_BMI.plot(kind=\"bar\", rot=90)\n",
    "plt.xlabel(\"BMI Category\")\n",
    "plt.ylabel(\"Avg Sleep Quality\")\n",
    "plt.title(\"BMI Category vs. Avg Sleep Quality\")\n",
    "plt.show()"
   ]
  },
  {
   "cell_type": "code",
   "execution_count": null,
   "metadata": {},
   "outputs": [],
   "source": [
    "#The mean duration and quality based on BMI category\n",
    "bmi_category_df = pd.DataFrame({\n",
    "    \"Mean Sleep Duration\": sleep_df_clean.groupby([\"BMI Category\"])[\"Sleep Duration\"].mean(),\n",
    "    \"Mean Sleep Quality\": sleep_df_clean.groupby([\"BMI Category\"])[\"Quality of Sleep\"].mean(),\n",
    "})\n",
    "bmi_category_df"
   ]
  },
  {
   "cell_type": "code",
   "execution_count": null,
   "metadata": {},
   "outputs": [],
   "source": [
    "#looking at sample sizes for stress level\n",
    "plt.bar(sleep_df_clean[\"Stress Level\"].value_counts().index.values,\n",
    "         sleep_df_clean[\"Stress Level\"].value_counts().values)\n",
    "plt.xticks(rotation = 90)\n",
    "plt.xlabel(\"Stress Level\")\n",
    "plt.ylabel(\"Total Number\")\n",
    "plt.title(\"Stress Level vs Total Number\")\n",
    "plt.show()"
   ]
  },
  {
   "cell_type": "code",
   "execution_count": null,
   "metadata": {},
   "outputs": [],
   "source": [
    "#Looking at heart rate vs quality\n",
    "data_stuff_stress = sleep_df_clean.groupby([\"Stress Level\"])[\"Quality of Sleep\"].mean()\n",
    "data_stuff_stress.plot(kind=\"bar\", rot=90)\n",
    "plt.xlabel(\"Stress Level\")\n",
    "plt.ylabel(\"Avg Sleep Quality\")\n",
    "plt.title(\"Stress Level vs. Avg Sleep Quality\")\n",
    "plt.show()"
   ]
  },
  {
   "cell_type": "code",
   "execution_count": null,
   "metadata": {},
   "outputs": [],
   "source": [
    "#The mean duration and quality based on Daily Steps\n",
    "stress_level_df = pd.DataFrame({\n",
    "    \"Mean Sleep Duration\": sleep_df_clean.groupby([\"Stress Level\"])[\"Sleep Duration\"].mean(),\n",
    "    \"Mean Sleep Quality\": sleep_df_clean.groupby([\"Stress Level\"])[\"Quality of Sleep\"].mean(),\n",
    "})\n",
    "stress_level_df"
   ]
  },
  {
   "cell_type": "code",
   "execution_count": null,
   "metadata": {},
   "outputs": [],
   "source": [
    "linear(sleep_df_clean[\"Stress Level\"],sleep_df_clean['Sleep Duration'],\"Stress Level vs. Sleep Duration (Hours)\", \"Stress Level\", \"Sleep Duration (Hours)\")"
   ]
  }
 ],
 "metadata": {
  "kernelspec": {
   "display_name": "base",
   "language": "python",
   "name": "python3"
  },
  "language_info": {
   "codemirror_mode": {
    "name": "ipython",
    "version": 3
   },
   "file_extension": ".py",
   "mimetype": "text/x-python",
   "name": "python",
   "nbconvert_exporter": "python",
   "pygments_lexer": "ipython3",
   "version": "3.10.11"
  },
  "orig_nbformat": 4
 },
 "nbformat": 4,
 "nbformat_minor": 2
}
